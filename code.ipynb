{
 "cells": [
  {
   "cell_type": "code",
   "execution_count": 7,
   "metadata": {},
   "outputs": [
    {
     "name": "stdout",
     "output_type": "stream",
     "text": [
      "Collecting contractions\n",
      "  Downloading contractions-0.1.73-py2.py3-none-any.whl.metadata (1.2 kB)\n",
      "Collecting textsearch>=0.0.21 (from contractions)\n",
      "  Downloading textsearch-0.0.24-py2.py3-none-any.whl.metadata (1.2 kB)\n",
      "Collecting anyascii (from textsearch>=0.0.21->contractions)\n",
      "  Downloading anyascii-0.3.2-py3-none-any.whl.metadata (1.5 kB)\n",
      "Collecting pyahocorasick (from textsearch>=0.0.21->contractions)\n",
      "  Downloading pyahocorasick-2.0.0-cp310-cp310-macosx_10_9_universal2.whl.metadata (13 kB)\n",
      "Downloading contractions-0.1.73-py2.py3-none-any.whl (8.7 kB)\n",
      "Downloading textsearch-0.0.24-py2.py3-none-any.whl (7.6 kB)\n",
      "Downloading anyascii-0.3.2-py3-none-any.whl (289 kB)\n",
      "\u001b[2K   \u001b[90m━━━━━━━━━━━━━━━━━━━━━━━━━━━━━━━━━━━━━━━━\u001b[0m \u001b[32m289.9/289.9 kB\u001b[0m \u001b[31m5.2 MB/s\u001b[0m eta \u001b[36m0:00:00\u001b[0ma \u001b[36m0:00:01\u001b[0m\n",
      "\u001b[?25hDownloading pyahocorasick-2.0.0-cp310-cp310-macosx_10_9_universal2.whl (63 kB)\n",
      "\u001b[2K   \u001b[90m━━━━━━━━━━━━━━━━━━━━━━━━━━━━━━━━━━━━━━━━\u001b[0m \u001b[32m63.6/63.6 kB\u001b[0m \u001b[31m3.6 MB/s\u001b[0m eta \u001b[36m0:00:00\u001b[0m\n",
      "\u001b[?25hInstalling collected packages: pyahocorasick, anyascii, textsearch, contractions\n",
      "Successfully installed anyascii-0.3.2 contractions-0.1.73 pyahocorasick-2.0.0 textsearch-0.0.24\n",
      "Note: you may need to restart the kernel to use updated packages.\n"
     ]
    }
   ],
   "source": [
    "# %pip install pandas\n",
    "# %pip install numpy\n",
    "# %pip install contractions\n",
    "# %pip install bs4\n",
    "# %pip install nltk\n",
    "# %pip install unidecode"
   ]
  },
  {
   "cell_type": "markdown",
   "metadata": {},
   "source": [
    "# Importing Libraries"
   ]
  },
  {
   "cell_type": "code",
   "execution_count": 1,
   "metadata": {},
   "outputs": [],
   "source": [
    "import pandas as pd\n",
    "import gzip\n",
    "import json\n",
    "import re\n",
    "from bs4 import BeautifulSoup\n",
    "from unidecode import unidecode\n",
    "import nltk\n",
    "import contractions\n",
    "\n",
    "from nltk.stem import WordNetLemmatizer\n",
    "from nltk.tokenize import word_tokenize\n",
    "# from acronym import Acronym\n"
   ]
  },
  {
   "cell_type": "markdown",
   "metadata": {},
   "source": [
    "# Df loading function"
   ]
  },
  {
   "cell_type": "code",
   "execution_count": 2,
   "metadata": {},
   "outputs": [],
   "source": [
    "def parse(path):\n",
    "  g = gzip.open(path, 'rb')\n",
    "  for l in g:\n",
    "    yield json.loads(l)\n",
    "\n",
    "def getDF(path):\n",
    "  i = 0\n",
    "  df = {}\n",
    "  folder = parse(path)\n",
    "  for d in folder:\n",
    "    print(i)\n",
    "    df[i] = d\n",
    "    i += 1\n",
    "  return df\n",
    "\n"
   ]
  },
  {
   "cell_type": "code",
   "execution_count": null,
   "metadata": {},
   "outputs": [],
   "source": [
    "df = getDF('Electronics_5.json.gz')\n",
    "data_frame = pd.DataFrame.from_dict(df, orient='index')\n",
    "data_frame.to_csv('data_frame.csv', index=False)"
   ]
  },
  {
   "cell_type": "code",
   "execution_count": null,
   "metadata": {},
   "outputs": [],
   "source": [
    "df = getDF('meta_Electronics.json.gz')\n",
    "meta_df = pd.DataFrame.from_dict(df, orient='index')\n",
    "meta_df.to_csv('meta_data.csv', index=False, escapechar='\\\\')"
   ]
  },
  {
   "cell_type": "code",
   "execution_count": 3,
   "metadata": {},
   "outputs": [
    {
     "name": "stderr",
     "output_type": "stream",
     "text": [
      "/var/folders/4f/kjgrgc293tn7cn556xk1h1g40000gn/T/ipykernel_4806/1755724970.py:1: DtypeWarning: Columns (1) have mixed types. Specify dtype option on import or set low_memory=False.\n",
      "  data = pd.read_csv(\"data_frame.csv\")\n"
     ]
    }
   ],
   "source": [
    "data = pd.read_csv(\"data_frame.csv\")\n",
    "meta_data = pd.read_csv(\"meta_data.csv\")"
   ]
  },
  {
   "cell_type": "code",
   "execution_count": 6,
   "metadata": {},
   "outputs": [
    {
     "data": {
      "text/html": [
       "<div>\n",
       "<style scoped>\n",
       "    .dataframe tbody tr th:only-of-type {\n",
       "        vertical-align: middle;\n",
       "    }\n",
       "\n",
       "    .dataframe tbody tr th {\n",
       "        vertical-align: top;\n",
       "    }\n",
       "\n",
       "    .dataframe thead th {\n",
       "        text-align: right;\n",
       "    }\n",
       "</style>\n",
       "<table border=\"1\" class=\"dataframe\">\n",
       "  <thead>\n",
       "    <tr style=\"text-align: right;\">\n",
       "      <th></th>\n",
       "      <th>category</th>\n",
       "      <th>tech1</th>\n",
       "      <th>description</th>\n",
       "      <th>fit</th>\n",
       "      <th>title</th>\n",
       "      <th>also_buy</th>\n",
       "      <th>tech2</th>\n",
       "      <th>brand</th>\n",
       "      <th>feature</th>\n",
       "      <th>rank</th>\n",
       "      <th>also_view</th>\n",
       "      <th>main_cat</th>\n",
       "      <th>similar_item</th>\n",
       "      <th>date</th>\n",
       "      <th>price</th>\n",
       "      <th>asin</th>\n",
       "      <th>imageURL</th>\n",
       "      <th>imageURLHighRes</th>\n",
       "      <th>details</th>\n",
       "    </tr>\n",
       "  </thead>\n",
       "  <tbody>\n",
       "    <tr>\n",
       "      <th>0</th>\n",
       "      <td>['Electronics', 'Camera &amp;amp; Photo', 'Video S...</td>\n",
       "      <td>NaN</td>\n",
       "      <td>['The following camera brands and models have ...</td>\n",
       "      <td>NaN</td>\n",
       "      <td>Genuine Geovision 1 Channel 3rd Party NVR IP S...</td>\n",
       "      <td>[]</td>\n",
       "      <td>NaN</td>\n",
       "      <td>GeoVision</td>\n",
       "      <td>['Genuine Geovision 1 Channel NVR IP Software'...</td>\n",
       "      <td>['&gt;#3,092 in Tools &amp;amp; Home Improvement &amp;gt;...</td>\n",
       "      <td>[]</td>\n",
       "      <td>Camera &amp;amp; Photo</td>\n",
       "      <td>NaN</td>\n",
       "      <td>January 28, 2014</td>\n",
       "      <td>$65.00</td>\n",
       "      <td>0011300000</td>\n",
       "      <td>['https://images-na.ssl-images-amazon.com/imag...</td>\n",
       "      <td>['https://images-na.ssl-images-amazon.com/imag...</td>\n",
       "      <td>NaN</td>\n",
       "    </tr>\n",
       "    <tr>\n",
       "      <th>1</th>\n",
       "      <td>['Electronics', 'Camera &amp;amp; Photo']</td>\n",
       "      <td>NaN</td>\n",
       "      <td>[\"This second edition of the Handbook of Astro...</td>\n",
       "      <td>NaN</td>\n",
       "      <td>Books \"Handbook of Astronomical Image Processi...</td>\n",
       "      <td>['0999470906']</td>\n",
       "      <td>NaN</td>\n",
       "      <td>33 Books Co.</td>\n",
       "      <td>['Detailed chapters cover these fundamental to...</td>\n",
       "      <td>['&gt;#55,933 in Camera &amp;amp; Photo (See Top 100 ...</td>\n",
       "      <td>['0943396670', '1138055360', '0999470906']</td>\n",
       "      <td>Camera &amp;amp; Photo</td>\n",
       "      <td>NaN</td>\n",
       "      <td>June 17, 2003</td>\n",
       "      <td>NaN</td>\n",
       "      <td>0043396828</td>\n",
       "      <td>['https://images-na.ssl-images-amazon.com/imag...</td>\n",
       "      <td>['https://images-na.ssl-images-amazon.com/imag...</td>\n",
       "      <td>NaN</td>\n",
       "    </tr>\n",
       "    <tr>\n",
       "      <th>2</th>\n",
       "      <td>['Electronics', 'eBook Readers &amp;amp; Accessori...</td>\n",
       "      <td>NaN</td>\n",
       "      <td>['A zesty tale. (Publishers Weekly)&lt;br /&gt;&lt;br /...</td>\n",
       "      <td>NaN</td>\n",
       "      <td>One Hot Summer</td>\n",
       "      <td>['0425167798', '039914157X']</td>\n",
       "      <td>NaN</td>\n",
       "      <td>Visit Amazon's Carolina Garcia Aguilera Page</td>\n",
       "      <td>[]</td>\n",
       "      <td>3,105,177 in Books (</td>\n",
       "      <td>[]</td>\n",
       "      <td>Books</td>\n",
       "      <td>NaN</td>\n",
       "      <td>NaN</td>\n",
       "      <td>$11.49</td>\n",
       "      <td>0060009810</td>\n",
       "      <td>[]</td>\n",
       "      <td>[]</td>\n",
       "      <td>NaN</td>\n",
       "    </tr>\n",
       "    <tr>\n",
       "      <th>3</th>\n",
       "      <td>['Electronics', 'eBook Readers &amp; Accessories',...</td>\n",
       "      <td>NaN</td>\n",
       "      <td>[]</td>\n",
       "      <td>NaN</td>\n",
       "      <td>Hurray for Hattie Rabbit: Story and pictures (...</td>\n",
       "      <td>['0060219521', '0060219580', '0060219394']</td>\n",
       "      <td>NaN</td>\n",
       "      <td>Visit Amazon's Dick Gackenbach Page</td>\n",
       "      <td>[]</td>\n",
       "      <td>2,024,298 in Books (</td>\n",
       "      <td>['0060219521', '0060219475', '0060219394']</td>\n",
       "      <td>Books</td>\n",
       "      <td>NaN</td>\n",
       "      <td>NaN</td>\n",
       "      <td>.a-section.a-spacing-mini{margin-bottom:6px!im...</td>\n",
       "      <td>0060219602</td>\n",
       "      <td>[]</td>\n",
       "      <td>[]</td>\n",
       "      <td>NaN</td>\n",
       "    </tr>\n",
       "    <tr>\n",
       "      <th>4</th>\n",
       "      <td>['Electronics', 'eBook Readers &amp; Accessories',...</td>\n",
       "      <td>NaN</td>\n",
       "      <td>['&amp;#8220;sex.lies.murder.fame. is brillllli&amp;#8...</td>\n",
       "      <td>NaN</td>\n",
       "      <td>sex.lies.murder.fame.: A Novel</td>\n",
       "      <td>[]</td>\n",
       "      <td>NaN</td>\n",
       "      <td>Visit Amazon's Lolita Files Page</td>\n",
       "      <td>[]</td>\n",
       "      <td>3,778,828 in Books (</td>\n",
       "      <td>[]</td>\n",
       "      <td>Books</td>\n",
       "      <td>NaN</td>\n",
       "      <td>NaN</td>\n",
       "      <td>$13.95</td>\n",
       "      <td>0060786817</td>\n",
       "      <td>[]</td>\n",
       "      <td>[]</td>\n",
       "      <td>NaN</td>\n",
       "    </tr>\n",
       "  </tbody>\n",
       "</table>\n",
       "</div>"
      ],
      "text/plain": [
       "                                            category tech1  \\\n",
       "0  ['Electronics', 'Camera &amp; Photo', 'Video S...   NaN   \n",
       "1              ['Electronics', 'Camera &amp; Photo']   NaN   \n",
       "2  ['Electronics', 'eBook Readers &amp; Accessori...   NaN   \n",
       "3  ['Electronics', 'eBook Readers & Accessories',...   NaN   \n",
       "4  ['Electronics', 'eBook Readers & Accessories',...   NaN   \n",
       "\n",
       "                                         description  fit  \\\n",
       "0  ['The following camera brands and models have ...  NaN   \n",
       "1  [\"This second edition of the Handbook of Astro...  NaN   \n",
       "2  ['A zesty tale. (Publishers Weekly)<br /><br /...  NaN   \n",
       "3                                                 []  NaN   \n",
       "4  ['&#8220;sex.lies.murder.fame. is brillllli&#8...  NaN   \n",
       "\n",
       "                                               title  \\\n",
       "0  Genuine Geovision 1 Channel 3rd Party NVR IP S...   \n",
       "1  Books \"Handbook of Astronomical Image Processi...   \n",
       "2                                     One Hot Summer   \n",
       "3  Hurray for Hattie Rabbit: Story and pictures (...   \n",
       "4                     sex.lies.murder.fame.: A Novel   \n",
       "\n",
       "                                     also_buy tech2  \\\n",
       "0                                          []   NaN   \n",
       "1                              ['0999470906']   NaN   \n",
       "2                ['0425167798', '039914157X']   NaN   \n",
       "3  ['0060219521', '0060219580', '0060219394']   NaN   \n",
       "4                                          []   NaN   \n",
       "\n",
       "                                          brand  \\\n",
       "0                                     GeoVision   \n",
       "1                                  33 Books Co.   \n",
       "2  Visit Amazon's Carolina Garcia Aguilera Page   \n",
       "3           Visit Amazon's Dick Gackenbach Page   \n",
       "4              Visit Amazon's Lolita Files Page   \n",
       "\n",
       "                                             feature  \\\n",
       "0  ['Genuine Geovision 1 Channel NVR IP Software'...   \n",
       "1  ['Detailed chapters cover these fundamental to...   \n",
       "2                                                 []   \n",
       "3                                                 []   \n",
       "4                                                 []   \n",
       "\n",
       "                                                rank  \\\n",
       "0  ['>#3,092 in Tools &amp; Home Improvement &gt;...   \n",
       "1  ['>#55,933 in Camera &amp; Photo (See Top 100 ...   \n",
       "2                               3,105,177 in Books (   \n",
       "3                               2,024,298 in Books (   \n",
       "4                               3,778,828 in Books (   \n",
       "\n",
       "                                    also_view            main_cat  \\\n",
       "0                                          []  Camera &amp; Photo   \n",
       "1  ['0943396670', '1138055360', '0999470906']  Camera &amp; Photo   \n",
       "2                                          []               Books   \n",
       "3  ['0060219521', '0060219475', '0060219394']               Books   \n",
       "4                                          []               Books   \n",
       "\n",
       "  similar_item              date  \\\n",
       "0          NaN  January 28, 2014   \n",
       "1          NaN     June 17, 2003   \n",
       "2          NaN               NaN   \n",
       "3          NaN               NaN   \n",
       "4          NaN               NaN   \n",
       "\n",
       "                                               price        asin  \\\n",
       "0                                             $65.00  0011300000   \n",
       "1                                                NaN  0043396828   \n",
       "2                                             $11.49  0060009810   \n",
       "3  .a-section.a-spacing-mini{margin-bottom:6px!im...  0060219602   \n",
       "4                                             $13.95  0060786817   \n",
       "\n",
       "                                            imageURL  \\\n",
       "0  ['https://images-na.ssl-images-amazon.com/imag...   \n",
       "1  ['https://images-na.ssl-images-amazon.com/imag...   \n",
       "2                                                 []   \n",
       "3                                                 []   \n",
       "4                                                 []   \n",
       "\n",
       "                                     imageURLHighRes details  \n",
       "0  ['https://images-na.ssl-images-amazon.com/imag...     NaN  \n",
       "1  ['https://images-na.ssl-images-amazon.com/imag...     NaN  \n",
       "2                                                 []     NaN  \n",
       "3                                                 []     NaN  \n",
       "4                                                 []     NaN  "
      ]
     },
     "execution_count": 6,
     "metadata": {},
     "output_type": "execute_result"
    }
   ],
   "source": [
    "meta_data.head()"
   ]
  },
  {
   "cell_type": "code",
   "execution_count": 7,
   "metadata": {},
   "outputs": [
    {
     "data": {
      "text/plain": [
       "31305"
      ]
     },
     "execution_count": 7,
     "metadata": {},
     "output_type": "execute_result"
    }
   ],
   "source": [
    "product_indices = []\n",
    "product = 'Headphones'\n",
    "for i in range(len(meta_data)):\n",
    "    if product in meta_data['category'][i]:\n",
    "        product_indices.append(i)\n",
    "\n",
    "len(product_indices)"
   ]
  },
  {
   "cell_type": "code",
   "execution_count": 8,
   "metadata": {},
   "outputs": [],
   "source": [
    "product_meta_data_df = meta_data.iloc[product_indices]\n",
    "product_meta_data_df = product_meta_data_df.dropna(subset=['title', 'asin'])\n",
    "product_meta_data_df = product_meta_data_df.drop_duplicates()\n"
   ]
  },
  {
   "cell_type": "code",
   "execution_count": 10,
   "metadata": {},
   "outputs": [],
   "source": [
    "product_df= pd.merge(data, product_meta_data_df, on='asin', how='inner')\n",
    "product_df = product_df.dropna(subset=['overall'])\n",
    "product_df = product_df.drop_duplicates()\n"
   ]
  },
  {
   "cell_type": "code",
   "execution_count": null,
   "metadata": {},
   "outputs": [],
   "source": [
    "product_df.info()\n",
    "\n"
   ]
  },
  {
   "cell_type": "code",
   "execution_count": null,
   "metadata": {},
   "outputs": [],
   "source": [
    "total_reviews = product_df['reviewText'].count()\n",
    "average_rating = product_df['overall'].mean()\n",
    "num_unique_products = product_df['asin'].nunique()\n",
    "good_ratings = product_df[product_df['overall'] >= 3]['overall'].count()\n",
    "bad_ratings = product_df[product_df['overall'] < 3]['overall'].count()\n",
    "rating_counts = product_df['overall'].value_counts().sort_index()\n",
    "\n",
    "# Display the results\n",
    "print(\" . Number of rows for the product:\", len(product_df))\n",
    "print(\"a. Number of Reviews:\", total_reviews)\n",
    "print(\"b. Average Rating Score:\", average_rating)\n",
    "print(\"c. Number of Unique Products:\", num_unique_products)\n",
    "print(\"d. Number of Good Ratings:\", good_ratings)\n",
    "print(\"e. Number of Bad Ratings:\", bad_ratings)\n",
    "print(\"f. Number of Reviews corresponding to each Rating:\")\n",
    "print(rating_counts)\n"
   ]
  },
  {
   "cell_type": "code",
   "execution_count": null,
   "metadata": {},
   "outputs": [],
   "source": [
    "\n",
    "# # Function to expand acronyms (you can extend this as needed)\n",
    "def expand_acronyms(text):\n",
    "    expanded_words = []    \n",
    "    for word in text.split():\n",
    "        expanded_words.append(contractions.fix(word))  \n",
    "    expanded_text = ' '.join(expanded_words)\n",
    "    return expanded_text\n",
    "def remove_html_tags(text):\n",
    "    soup = BeautifulSoup(text, \"html.parser\")\n",
    "    return soup.get_text()\n",
    "def remove_accented_chars(text):\n",
    "    return unidecode(text)\n",
    "def remove_special_characters(text):\n",
    "    return re.sub(r'[^a-zA-Z\\s]', '', text)\n",
    "def lemmatize_text(text):\n",
    "    tokens = word_tokenize(text)\n",
    "    lemmatizer = WordNetLemmatizer()\n",
    "    tokens = [lemmatizer.lemmatize(token) for token in tokens]\n",
    "    preprocessed_text = ' '.join(tokens)\n",
    "    return preprocessed_text\n",
    "def normalize_text(text):\n",
    "    text = text.lower()\n",
    "    text = expand_acronyms(text)\n",
    "    text = remove_html_tags(text)\n",
    "    text = remove_accented_chars(text)\n",
    "    text = remove_special_characters(text)\n",
    "    text = lemmatize_text(text)\n",
    "    return text\n",
    "\n",
    "product_df['reviewText'] = product_df['reviewText'].astype(str)\n",
    "for i in range(len(product_df)):\n",
    "    pre_text =  normalize_text(product_df['reviewText'].iloc[i])\n",
    "    product_df['reviewText'].iloc[i] =pre_text\n"
   ]
  },
  {
   "cell_type": "code",
   "execution_count": 28,
   "metadata": {},
   "outputs": [
    {
     "name": "stdout",
     "output_type": "stream",
     "text": [
      "Most positively reviewed headphone:\n",
      "title\n",
      "Myron &amp; Davis AE52 Dual Channel IR headphone    5.0\n",
      "Name: overall, dtype: float64\n",
      "a. Top 20 most reviewed brands:\n",
      "brand\n",
      "Sony              31260\n",
      "Sennheiser        21221\n",
      "Bose               9489\n",
      "Plantronics        8239\n",
      "Skullcandy         7862\n",
      "JVC                7024\n",
      "JLAB               6977\n",
      "Audio-Technica     6651\n",
      "Philips            6458\n",
      "Panasonic          5980\n",
      "Koss               5764\n",
      "Mpow               5643\n",
      "LG                 5624\n",
      "Samsung            5597\n",
      "Bluedio            5364\n",
      "MEE audio          4644\n",
      "Anker              4291\n",
      "Symphonized        4285\n",
      "TaoTronics         4056\n",
      "Beats              3993\n",
      "Name: count, dtype: int64\n",
      "Top 20 least reviewed brands:\n",
      "brand\n",
      "EMPIRE AUDIO USA         5\n",
      "Cosa Nova                5\n",
      "MAXELL(R)                5\n",
      "OAproda                  5\n",
      "TomTom                   5\n",
      "tech21                   5\n",
      "SoulBuddy                5\n",
      "fizwan                   5\n",
      "OCR                      5\n",
      "Spark                    5\n",
      "VIILER                   5\n",
      "YooZoo                   4\n",
      "DetectorPro              4\n",
      "SOUND-SQUARED CO.        4\n",
      "NOIZY Brands             3\n",
      "DSI                      3\n",
      "Zelco Industries, Inc    3\n",
      "Fred & Friends           3\n",
      "Digital Antenna          1\n",
      "Honda                    1\n",
      "Name: count, dtype: int64\n"
     ]
    }
   ],
   "source": [
    "top_20_most_reviewed_brands = product_df['brand'].value_counts().head(20)\n",
    "top_20_least_reviewed_brands = product_df['brand'].value_counts().tail(20)\n",
    "most_positively_reviewed_headphone = product_df.groupby('title')['overall'].mean().nlargest(1)\n",
    "\n",
    "\n",
    "print(\"a. Top 20 most reviewed brands:\")\n",
    "print(top_20_most_reviewed_brands)\n",
    "print(\"b. Top 20 least reviewed brands:\")\n",
    "print(top_20_least_reviewed_brands)\n",
    "print(\"c. Most positively reviewed headphone:\")\n",
    "print(most_positively_reviewed_headphone)"
   ]
  },
  {
   "cell_type": "code",
   "execution_count": null,
   "metadata": {},
   "outputs": [],
   "source": [
    "set(product_df['date'])"
   ]
  },
  {
   "cell_type": "code",
   "execution_count": 35,
   "metadata": {},
   "outputs": [
    {
     "name": "stderr",
     "output_type": "stream",
     "text": [
      "/var/folders/4f/kjgrgc293tn7cn556xk1h1g40000gn/T/ipykernel_3520/1072341768.py:3: FutureWarning: 'Y' is deprecated and will be removed in a future version, please use 'YE' instead.\n",
      "  ratings_over_years = product_df.set_index('date').groupby(pd.Grouper(freq='Y')).size().head(5)\n"
     ]
    },
    {
     "name": "stdout",
     "output_type": "stream",
     "text": [
      "Count of ratings for the product over 5 consecutive years:\n",
      "date\n",
      "1973-12-31    129\n",
      "1974-12-31      0\n",
      "1975-12-31      0\n",
      "1976-12-31      0\n",
      "1977-12-31      0\n",
      "dtype: int64\n"
     ]
    }
   ],
   "source": [
    "product_df['date'] = pd.to_datetime(product_df['date'], errors='coerce')\n",
    "# Count of ratings for the product over 5 consecutive years\n",
    "ratings_over_years = product_df.set_index('date').groupby(pd.Grouper(freq='Y')).size().head(5)\n",
    "print(\"Count of ratings for the product over 5 consecutive years:\")\n",
    "print(ratings_over_years)"
   ]
  },
  {
   "cell_type": "code",
   "execution_count": 60,
   "metadata": {},
   "outputs": [
    {
     "ename": "NameError",
     "evalue": "name 'Acronym' is not defined",
     "output_type": "error",
     "traceback": [
      "\u001b[0;31m---------------------------------------------------------------------------\u001b[0m",
      "\u001b[0;31mNameError\u001b[0m                                 Traceback (most recent call last)",
      "Cell \u001b[0;32mIn[60], line 2\u001b[0m\n\u001b[1;32m      1\u001b[0m \u001b[38;5;66;03m# Create an instance of the Acronym class\u001b[39;00m\n\u001b[0;32m----> 2\u001b[0m acronyms \u001b[38;5;241m=\u001b[39m \u001b[43mAcronym\u001b[49m()\n\u001b[1;32m      4\u001b[0m \u001b[38;5;66;03m# Expand acronyms\u001b[39;00m\n\u001b[1;32m      5\u001b[0m text \u001b[38;5;241m=\u001b[39m \u001b[38;5;124m\"\u001b[39m\u001b[38;5;124mlol, omg, btw\u001b[39m\u001b[38;5;124m\"\u001b[39m\n",
      "\u001b[0;31mNameError\u001b[0m: name 'Acronym' is not defined"
     ]
    }
   ],
   "source": [
    "\n",
    "\n",
    "# Create an instance of the Acronym class\n",
    "acronyms = Acronym()\n",
    "\n",
    "# Expand acronyms\n",
    "text = \"lol, omg, btw\"\n",
    "expanded_text = acronyms.expand(text)\n",
    "\n",
    "print(expanded_text)\n"
   ]
  }
 ],
 "metadata": {
  "kernelspec": {
   "display_name": ".venv",
   "language": "python",
   "name": "python3"
  },
  "language_info": {
   "codemirror_mode": {
    "name": "ipython",
    "version": 3
   },
   "file_extension": ".py",
   "mimetype": "text/x-python",
   "name": "python",
   "nbconvert_exporter": "python",
   "pygments_lexer": "ipython3",
   "version": "3.10.10"
  }
 },
 "nbformat": 4,
 "nbformat_minor": 2
}
